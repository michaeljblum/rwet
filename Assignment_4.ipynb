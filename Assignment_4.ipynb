{
 "cells": [
  {
   "cell_type": "markdown",
   "metadata": {},
   "source": [
    "## Attention"
   ]
  },
  {
   "cell_type": "markdown",
   "metadata": {},
   "source": [
    "### "
   ]
  },
  {
   "cell_type": "code",
   "execution_count": 50,
   "metadata": {},
   "outputs": [],
   "source": [
    "import re\n",
    "from nltk.corpus import stopwords\n",
    "import random"
   ]
  },
  {
   "cell_type": "code",
   "execution_count": 51,
   "metadata": {},
   "outputs": [],
   "source": [
    "# file = \"composition.txt\"\n",
    "# file = \"2of4brif.txt\"\n",
    "file = \"meiji.txt\""
   ]
  },
  {
   "cell_type": "code",
   "execution_count": 52,
   "metadata": {},
   "outputs": [],
   "source": [
    "with open(file) as f:\n",
    "    text = f.read()"
   ]
  },
  {
   "cell_type": "code",
   "execution_count": 53,
   "metadata": {},
   "outputs": [],
   "source": [
    "text = re.split('\\.|\\. |; |,|\\*|\\n| ', text)\n",
    "text_words = [w.lower() for w in text if w not in stopwords.words('english') and w.isalpha()]\n",
    "text_words = list(set(text_words))"
   ]
  },
  {
   "cell_type": "code",
   "execution_count": 58,
   "metadata": {},
   "outputs": [
    {
     "name": "stdout",
     "output_type": "stream",
     "text": [
      "  hat stormy\n",
      "   foreign writing\n",
      "    waters attached\n",
      "     aristocracy officers\n",
      "      indispensable reinforced\n",
      "       installed minor\n",
      "        begun expression\n",
      "         installed jeweled\n",
      "          alarm right\n",
      "           liaison court\n",
      "            depiction conduct\n",
      "             nengo finally\n",
      "              stormy he\n",
      "               aristocracy countries\n",
      "                splendor extraordinarily\n",
      "                 mirror moment\n",
      "                  merely tatami\n",
      "                   writing acceptable\n",
      "                    four midwife\n",
      "                     ample typical\n",
      "                      spirit aristocracy\n",
      "                       negotiations begun\n",
      "                        countries portrait\n",
      "                         first handwriting\n",
      "                          letter shock\n",
      "                           letter concern\n",
      "                            spirit admiral\n",
      "                             pavilion orders\n",
      "                              able tadayasu\n",
      "                               initially third\n",
      "                                sprang shogun\n",
      "                                 splendor rare\n",
      "                                  extraordinarily european\n",
      "                                   japanese essential\n",
      "                                    display circumstances\n",
      "                                     effect supplies\n",
      "                                      tokugawa even\n",
      "                                       hour member\n",
      "                                        he accompanied\n",
      "                                         domains palace\n",
      "                                          effect hotta\n",
      "                                           e increasing\n",
      "                                            tranquillity need\n",
      "                                             four display\n",
      "                                              thirteenth prayers\n",
      "                                               supplies special\n",
      "                                                importance costume\n",
      "                                                 moments hotta\n",
      "                                                  fox third\n",
      "                                                   importance stating\n",
      "                                                    distinguished russian\n"
     ]
    }
   ],
   "source": [
    "counter = 0\n",
    "while True:\n",
    "    counter += 1\n",
    "    print(\" \"*counter, random.choice(text_words), random.choice(text_words))\n",
    "    if counter > 50:\n",
    "        break"
   ]
  },
  {
   "cell_type": "code",
   "execution_count": null,
   "metadata": {},
   "outputs": [],
   "source": []
  }
 ],
 "metadata": {
  "kernelspec": {
   "display_name": "Python 3",
   "language": "python",
   "name": "python3"
  },
  "language_info": {
   "codemirror_mode": {
    "name": "ipython",
    "version": 3
   },
   "file_extension": ".py",
   "mimetype": "text/x-python",
   "name": "python",
   "nbconvert_exporter": "python",
   "pygments_lexer": "ipython3",
   "version": "3.7.1"
  }
 },
 "nbformat": 4,
 "nbformat_minor": 2
}
