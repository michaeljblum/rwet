{
 "cells": [
  {
   "cell_type": "markdown",
   "metadata": {},
   "source": [
    "## Week Three Homework (RWET)\n",
    "### *a Dust House of a*\n",
    "#### A Pythonic-ish Adaptation of Alison Knowles and James Tenney's 1967 Poetry Generator for Fortran"
   ]
  },
  {
   "cell_type": "code",
   "execution_count": 200,
   "metadata": {},
   "outputs": [],
   "source": [
    "import random\n",
    "import nltk\n",
    "from nltk.tokenize import sent_tokenize, word_tokenize\n",
    "from nltk.corpus import stopwords\n"
   ]
  },
  {
   "cell_type": "code",
   "execution_count": 201,
   "metadata": {},
   "outputs": [],
   "source": [
    "materials = [\n",
    "    'brick',\n",
    "    'broken dishes',\n",
    "    'discarded clothing',\n",
    "    'dust',\n",
    "    'glass',\n",
    "    'leaves',\n",
    "    'mud',\n",
    "    'paper',\n",
    "    'plastic',\n",
    "    'roots',\n",
    "    'sand',\n",
    "    'steel',\n",
    "    'stone',\n",
    "    'straw',\n",
    "    'tin',\n",
    "    'weeds',\n",
    "    'wood'\n",
    "]"
   ]
  },
  {
   "cell_type": "code",
   "execution_count": 202,
   "metadata": {},
   "outputs": [],
   "source": [
    "locations = [\n",
    "    'among high mountains',\n",
    "    'among other houses',\n",
    "    'among small hills',\n",
    "    'by a river',\n",
    "    'by an abandoned lake',\n",
    "    'by the sea',\n",
    "    'in a cold, windy climate',\n",
    "    'in a deserted airport',\n",
    "    'in a deserted church',\n",
    "    'in a deserted factory',\n",
    "    'in a green, mossy terrain',\n",
    "    'in a hot climate',\n",
    "    'in a metropolis',\n",
    "    'in a place with both heavy rain and bright sun',\n",
    "    'in an overpopulated area',\n",
    "    'in dense woods',\n",
    "    'in heavy jungle undergrowth',\n",
    "    'in japan',\n",
    "    'in michigan',\n",
    "    'in southern france',\n",
    "    'inside a mountain',\n",
    "    'on an island',\n",
    "    'on the sea',\n",
    "    'underwater'\n",
    "]"
   ]
  },
  {
   "cell_type": "code",
   "execution_count": 203,
   "metadata": {},
   "outputs": [],
   "source": [
    "lights = [\n",
    "    'all available lighting',\n",
    "    'candles',\n",
    "    'electricity',\n",
    "    'natural light'\n",
    "]"
   ]
  },
  {
   "cell_type": "code",
   "execution_count": 204,
   "metadata": {},
   "outputs": [],
   "source": [
    "inhabitants = [\n",
    "    'all races of men represented wearing predominantly red clothing',\n",
    "    'children and old people',\n",
    "    'collectors of all types',\n",
    "    'fishermen and families',\n",
    "    'french and german speaking people',\n",
    "    'friends',\n",
    "    'friends and enemies',\n",
    "    'horses and birds',\n",
    "    'little boys',\n",
    "    'lovers',\n",
    "    'people from many walks of life',\n",
    "    'people speaking many languages wearing little or no clothing',\n",
    "    'people who eat a great deal',\n",
    "    'people who enjoy eating together',\n",
    "    'people who love to read',\n",
    "    'people who sleep almost all the time',\n",
    "    'people who sleep very little',\n",
    "    'various birds and fish',\n",
    "    'vegetarians',\n",
    "    'very tall people'\n",
    "]"
   ]
  },
  {
   "cell_type": "code",
   "execution_count": 205,
   "metadata": {},
   "outputs": [],
   "source": [
    "combined = materials + locations + lights + inhabitants"
   ]
  },
  {
   "cell_type": "code",
   "execution_count": 206,
   "metadata": {},
   "outputs": [],
   "source": [
    "words = ' '.join([w for w in combined])"
   ]
  },
  {
   "cell_type": "code",
   "execution_count": 207,
   "metadata": {},
   "outputs": [
    {
     "name": "stdout",
     "output_type": "stream",
     "text": [
      "brick broken dishes discarded clothing dust glass leaves mud paper plastic roots sand steel stone straw tin weeds wood among high mountains among other houses among small hills by a river by an abandoned lake by the sea in a cold, windy climate in a deserted airport in a deserted church in a deserted factory in a green, mossy terrain in a hot climate in a metropolis in a place with both heavy rain and bright sun in an overpopulated area in dense woods in heavy jungle undergrowth in japan in michigan in southern france inside a mountain on an island on the sea underwater all available lighting candles electricity natural light all races of men represented wearing predominantly red clothing children and old people collectors of all types fishermen and families french and german speaking people friends friends and enemies horses and birds little boys lovers people from many walks of life people speaking many languages wearing little or no clothing people who eat a great deal people who enjoy eating together people who love to read people who sleep almost all the time people who sleep very little various birds and fish vegetarians very tall people\n"
     ]
    }
   ],
   "source": [
    "print(words)"
   ]
  },
  {
   "cell_type": "code",
   "execution_count": 208,
   "metadata": {},
   "outputs": [],
   "source": [
    "tokens = [w for w in word_tokenize(words)]"
   ]
  },
  {
   "cell_type": "code",
   "execution_count": 209,
   "metadata": {},
   "outputs": [],
   "source": [
    "stop_words = [w for w in tokens if w in stopwords.words('english')]"
   ]
  },
  {
   "cell_type": "code",
   "execution_count": 210,
   "metadata": {},
   "outputs": [],
   "source": [
    "word_words = [w for w in tokens if w not in stopwords.words('english') and w.isalpha()]"
   ]
  },
  {
   "cell_type": "code",
   "execution_count": 211,
   "metadata": {},
   "outputs": [
    {
     "name": "stdout",
     "output_type": "stream",
     "text": [
      "['brick', 'broken', 'dishes', 'discarded', 'clothing', 'dust', 'glass', 'leaves', 'mud', 'paper', 'plastic', 'roots', 'sand', 'steel', 'stone', 'straw', 'tin', 'weeds', 'wood', 'among', 'high', 'mountains', 'among', 'houses', 'among', 'small', 'hills', 'river', 'abandoned', 'lake', 'sea', 'cold', 'windy', 'climate', 'deserted', 'airport', 'deserted', 'church', 'deserted', 'factory', 'green', 'mossy', 'terrain', 'hot', 'climate', 'metropolis', 'place', 'heavy', 'rain', 'bright', 'sun', 'overpopulated', 'area', 'dense', 'woods', 'heavy', 'jungle', 'undergrowth', 'japan', 'michigan', 'southern', 'france', 'inside', 'mountain', 'island', 'sea', 'underwater', 'available', 'lighting', 'candles', 'electricity', 'natural', 'light', 'races', 'men', 'represented', 'wearing', 'predominantly', 'red', 'clothing', 'children', 'old', 'people', 'collectors', 'types', 'fishermen', 'families', 'french', 'german', 'speaking', 'people', 'friends', 'friends', 'enemies', 'horses', 'birds', 'little', 'boys', 'lovers', 'people', 'many', 'walks', 'life', 'people', 'speaking', 'many', 'languages', 'wearing', 'little', 'clothing', 'people', 'eat', 'great', 'deal', 'people', 'enjoy', 'eating', 'together', 'people', 'love', 'read', 'people', 'sleep', 'almost', 'time', 'people', 'sleep', 'little', 'various', 'birds', 'fish', 'vegetarians', 'tall', 'people']\n"
     ]
    }
   ],
   "source": [
    "print(word_words)"
   ]
  },
  {
   "cell_type": "code",
   "execution_count": 212,
   "metadata": {},
   "outputs": [],
   "source": [
    "def beginning():\n",
    "    print(f\"of a {random.choice(word_words)} {random.choice(word_words)}\")\n",
    "    print(random.choice(locations))\n",
    "    print(random.choice(stop_words)+ \" \" + random.choice(stop_words) + \" \" + random.choice(word_words))\n",
    "    print(random.choice(stop_words))\n",
    "    print(random.choice(word_words)  + \" \" + random.choice(word_words) + \" \" + random.choice(word_words) + \" \" + random.choice(stop_words))\n",
    "    print(random.choice(word_words) + \" \" + random.choice(word_words) + \"\\n\")"
   ]
  },
  {
   "cell_type": "code",
   "execution_count": 213,
   "metadata": {},
   "outputs": [],
   "source": [
    "def middle():\n",
    "    print(random.choice(locations))\n",
    "    print(random.choice(locations) + \"\\n\")"
   ]
  },
  {
   "cell_type": "code",
   "execution_count": 214,
   "metadata": {},
   "outputs": [],
   "source": [
    "def end():\n",
    "    print(f\"of a {random.choice(word_words)} {random.choice(word_words)}\")\n",
    "    print(random.choice(locations))\n",
    "    print(random.choice(stop_words)+ \" \" + random.choice(stop_words) + \" \" + random.choice(word_words))\n",
    "    print(random.choice(stop_words))\n",
    "    print(random.choice(word_words)  + \" \" + random.choice(word_words) + \" \" + random.choice(word_words) + \" \" + random.choice(stop_words))\n",
    "    print(random.choice(word_words) + \" \" + random.choice(word_words) + \"\\n\")"
   ]
  },
  {
   "cell_type": "code",
   "execution_count": 215,
   "metadata": {},
   "outputs": [
    {
     "name": "stdout",
     "output_type": "stream",
     "text": [
      "of a people hot\n",
      "inside a mountain\n",
      "the or lake\n",
      "all\n",
      "horses wearing straw very\n",
      "races green\n",
      "\n",
      "in dense woods\n",
      "in dense woods\n",
      "\n",
      "of a bright people\n",
      "in a deserted church\n",
      "with no paper\n",
      "and\n",
      "people various types in\n",
      "tall walks\n",
      "\n"
     ]
    }
   ],
   "source": [
    "beginning()\n",
    "middle()\n",
    "end()"
   ]
  },
  {
   "cell_type": "code",
   "execution_count": 1,
   "metadata": {},
   "outputs": [
    {
     "ename": "NameError",
     "evalue": "name 'beginning' is not defined",
     "output_type": "error",
     "traceback": [
      "\u001b[1;31m---------------------------------------------------------------------------\u001b[0m",
      "\u001b[1;31mNameError\u001b[0m                                 Traceback (most recent call last)",
      "\u001b[1;32m<ipython-input-1-d2a9b993da71>\u001b[0m in \u001b[0;36m<module>\u001b[1;34m\u001b[0m\n\u001b[1;32m----> 1\u001b[1;33m \u001b[0mbeginning\u001b[0m\u001b[1;33m(\u001b[0m\u001b[1;33m)\u001b[0m\u001b[1;33m\u001b[0m\u001b[1;33m\u001b[0m\u001b[0m\n\u001b[0m\u001b[0;32m      2\u001b[0m \u001b[0mmiddle\u001b[0m\u001b[1;33m(\u001b[0m\u001b[1;33m)\u001b[0m\u001b[1;33m\u001b[0m\u001b[1;33m\u001b[0m\u001b[0m\n\u001b[0;32m      3\u001b[0m \u001b[0mend\u001b[0m\u001b[1;33m(\u001b[0m\u001b[1;33m)\u001b[0m\u001b[1;33m\u001b[0m\u001b[1;33m\u001b[0m\u001b[0m\n",
      "\u001b[1;31mNameError\u001b[0m: name 'beginning' is not defined"
     ]
    }
   ],
   "source": [
    "beginning()\n",
    "middle()\n",
    "end()"
   ]
  },
  {
   "cell_type": "code",
   "execution_count": null,
   "metadata": {},
   "outputs": [],
   "source": []
  }
 ],
 "metadata": {
  "kernelspec": {
   "display_name": "Python 3",
   "language": "python",
   "name": "python3"
  },
  "language_info": {
   "codemirror_mode": {
    "name": "ipython",
    "version": 3
   },
   "file_extension": ".py",
   "mimetype": "text/x-python",
   "name": "python",
   "nbconvert_exporter": "python",
   "pygments_lexer": "ipython3",
   "version": "3.7.1"
  }
 },
 "nbformat": 4,
 "nbformat_minor": 2
}
