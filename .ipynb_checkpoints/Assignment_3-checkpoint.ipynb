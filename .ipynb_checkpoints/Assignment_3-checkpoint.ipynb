{
 "cells": [
  {
   "cell_type": "markdown",
   "metadata": {},
   "source": [
    "## RWET Assignment No. 3"
   ]
  },
  {
   "cell_type": "markdown",
   "metadata": {},
   "source": [
    "### Digital Cut-Up: *Emu as Explanation*"
   ]
  },
  {
   "cell_type": "markdown",
   "metadata": {},
   "source": [
    "***"
   ]
  },
  {
   "cell_type": "code",
   "execution_count": 269,
   "metadata": {},
   "outputs": [],
   "source": [
    "import random\n",
    "import requests\n",
    "from bs4 import BeautifulSoup\n",
    "import wikipedia\n",
    "import re\n",
    "from nltk.corpus import stopwords"
   ]
  },
  {
   "cell_type": "code",
   "execution_count": 270,
   "metadata": {},
   "outputs": [],
   "source": [
    "res = requests.get(\"https://www.poetryfoundation.org/articles/69481/composition-as-explanation\")\n",
    "soup = BeautifulSoup(res.text)\n",
    "comp = soup.select(\".c-userContent\")[1].get_text()"
   ]
  },
  {
   "cell_type": "code",
   "execution_count": 271,
   "metadata": {},
   "outputs": [],
   "source": [
    "history = wikipedia.WikipediaPage('Emu').section('History').lower()\n",
    "behavior = wikipedia.WikipediaPage('Emu').section('Behaviour and ecology').lower()\n",
    "diet = wikipedia.WikipediaPage('Emu').section('Diet').lower()"
   ]
  },
  {
   "cell_type": "code",
   "execution_count": 272,
   "metadata": {},
   "outputs": [],
   "source": [
    "split_behavior = re.split('\\.|\\. |; |,|\\*|\\n',behavior)\n",
    "split_behavior = [x for x in split_behavior if not any(c.isdigit() for c in x)]\n",
    "split_behavior = [x for x in split_behavior if x != '']"
   ]
  },
  {
   "cell_type": "code",
   "execution_count": 273,
   "metadata": {},
   "outputs": [],
   "source": [
    "long_history = re.split('\\.|\\. |, |\\n|\\ ',history)\n",
    "long_history = [x for x in long_history if len(x) > 10]"
   ]
  },
  {
   "cell_type": "code",
   "execution_count": 274,
   "metadata": {},
   "outputs": [],
   "source": [
    "random_diet = re.split('\\.|\\. |; |,|\\*|\\n| ',diet)\n",
    "random_diet = [w for w in random_diet if w not in stopwords.words('english') and w.isalpha()]\n",
    "random_diet = list(set(random_diet))"
   ]
  },
  {
   "cell_type": "code",
   "execution_count": 275,
   "metadata": {},
   "outputs": [],
   "source": [
    "comp = comp.split(' ')"
   ]
  },
  {
   "cell_type": "code",
   "execution_count": 276,
   "metadata": {},
   "outputs": [],
   "source": [
    "def chunks(s):\n",
    "    for start in range(0,len(s), random.randint(13,50)):\n",
    "        yield s[start:start+random.randint(4,14)]\n",
    "        \n",
    "comp_sent = []\n",
    "for chunk in chunks(comp):\n",
    "    comp_sent.append(chunk)"
   ]
  },
  {
   "cell_type": "code",
   "execution_count": 277,
   "metadata": {},
   "outputs": [],
   "source": [
    "comp_sent = [' '.join(x) for x in comp_sent]\n",
    "comp_sent = [x.replace(\"\\n\", \" \") for x in comp_sent]"
   ]
  },
  {
   "cell_type": "code",
   "execution_count": null,
   "metadata": {},
   "outputs": [],
   "source": []
  },
  {
   "cell_type": "code",
   "execution_count": null,
   "metadata": {},
   "outputs": [],
   "source": []
  }
 ],
 "metadata": {
  "kernelspec": {
   "display_name": "Python 3",
   "language": "python",
   "name": "python3"
  },
  "language_info": {
   "codemirror_mode": {
    "name": "ipython",
    "version": 3
   },
   "file_extension": ".py",
   "mimetype": "text/x-python",
   "name": "python",
   "nbconvert_exporter": "python",
   "pygments_lexer": "ipython3",
   "version": "3.7.1"
  }
 },
 "nbformat": 4,
 "nbformat_minor": 2
}
